{
 "cells": [
  {
   "cell_type": "code",
   "execution_count": 5,
   "id": "1178130c",
   "metadata": {},
   "outputs": [],
   "source": [
    "import torch"
   ]
  },
  {
   "cell_type": "code",
   "execution_count": 6,
   "id": "82887735",
   "metadata": {},
   "outputs": [],
   "source": [
    "x = torch.rand(3,5)"
   ]
  },
  {
   "cell_type": "code",
   "execution_count": 7,
   "id": "92528cb8",
   "metadata": {},
   "outputs": [
    {
     "data": {
      "text/plain": [
       "tensor([[0.4320, 0.5769, 0.7935, 0.5890, 0.0791],\n",
       "        [0.3873, 0.9429, 0.1221, 0.3006, 0.6264],\n",
       "        [0.1811, 0.0987, 0.3475, 0.6441, 0.7278]])"
      ]
     },
     "execution_count": 7,
     "metadata": {},
     "output_type": "execute_result"
    }
   ],
   "source": [
    "x"
   ]
  },
  {
   "cell_type": "code",
   "execution_count": 8,
   "id": "fe4fd704",
   "metadata": {},
   "outputs": [],
   "source": [
    "from torch import nn\n",
    "from torch.utils.data import DataLoader\n",
    "from torchvision import datasets\n",
    "from torchvision.transforms import ToTensor, Lambda, Compose\n",
    "\n",
    "import matplotlib.pyplot as plt"
   ]
  },
  {
   "cell_type": "code",
   "execution_count": 9,
   "id": "831ff344",
   "metadata": {},
   "outputs": [
    {
     "name": "stdout",
     "output_type": "stream",
     "text": [
      "Downloading http://fashion-mnist.s3-website.eu-central-1.amazonaws.com/train-images-idx3-ubyte.gz\n",
      "Downloading http://fashion-mnist.s3-website.eu-central-1.amazonaws.com/train-images-idx3-ubyte.gz to data/FashionMNIST/raw/train-images-idx3-ubyte.gz\n"
     ]
    },
    {
     "data": {
      "application/vnd.jupyter.widget-view+json": {
       "model_id": "ed0c8b60405a4450a3aad24d24e24201",
       "version_major": 2,
       "version_minor": 0
      },
      "text/plain": [
       "  0%|          | 0/26421880 [00:00<?, ?it/s]"
      ]
     },
     "metadata": {},
     "output_type": "display_data"
    },
    {
     "name": "stdout",
     "output_type": "stream",
     "text": [
      "Extracting data/FashionMNIST/raw/train-images-idx3-ubyte.gz to data/FashionMNIST/raw\n",
      "\n",
      "Downloading http://fashion-mnist.s3-website.eu-central-1.amazonaws.com/train-labels-idx1-ubyte.gz\n",
      "Downloading http://fashion-mnist.s3-website.eu-central-1.amazonaws.com/train-labels-idx1-ubyte.gz to data/FashionMNIST/raw/train-labels-idx1-ubyte.gz\n"
     ]
    },
    {
     "data": {
      "application/vnd.jupyter.widget-view+json": {
       "model_id": "57367b4eda674ea28ffe72f5ad9daabc",
       "version_major": 2,
       "version_minor": 0
      },
      "text/plain": [
       "  0%|          | 0/29515 [00:00<?, ?it/s]"
      ]
     },
     "metadata": {},
     "output_type": "display_data"
    },
    {
     "name": "stdout",
     "output_type": "stream",
     "text": [
      "Extracting data/FashionMNIST/raw/train-labels-idx1-ubyte.gz to data/FashionMNIST/raw\n",
      "\n",
      "Downloading http://fashion-mnist.s3-website.eu-central-1.amazonaws.com/t10k-images-idx3-ubyte.gz\n",
      "Downloading http://fashion-mnist.s3-website.eu-central-1.amazonaws.com/t10k-images-idx3-ubyte.gz to data/FashionMNIST/raw/t10k-images-idx3-ubyte.gz\n"
     ]
    },
    {
     "data": {
      "application/vnd.jupyter.widget-view+json": {
       "model_id": "00ceef4e75b4437c881f0bd9086f8f39",
       "version_major": 2,
       "version_minor": 0
      },
      "text/plain": [
       "  0%|          | 0/4422102 [00:00<?, ?it/s]"
      ]
     },
     "metadata": {},
     "output_type": "display_data"
    },
    {
     "name": "stdout",
     "output_type": "stream",
     "text": [
      "Extracting data/FashionMNIST/raw/t10k-images-idx3-ubyte.gz to data/FashionMNIST/raw\n",
      "\n",
      "Downloading http://fashion-mnist.s3-website.eu-central-1.amazonaws.com/t10k-labels-idx1-ubyte.gz\n",
      "Downloading http://fashion-mnist.s3-website.eu-central-1.amazonaws.com/t10k-labels-idx1-ubyte.gz to data/FashionMNIST/raw/t10k-labels-idx1-ubyte.gz\n"
     ]
    },
    {
     "data": {
      "application/vnd.jupyter.widget-view+json": {
       "model_id": "0f61dc80d9be4f4d811e9e9e6d32b3ce",
       "version_major": 2,
       "version_minor": 0
      },
      "text/plain": [
       "  0%|          | 0/5148 [00:00<?, ?it/s]"
      ]
     },
     "metadata": {},
     "output_type": "display_data"
    },
    {
     "name": "stdout",
     "output_type": "stream",
     "text": [
      "Extracting data/FashionMNIST/raw/t10k-labels-idx1-ubyte.gz to data/FashionMNIST/raw\n",
      "\n"
     ]
    }
   ],
   "source": [
    "train = datasets.FashionMNIST(\n",
    "    root = 'data',\n",
    "    train = True,\n",
    "    download = True,\n",
    "    transform = ToTensor())"
   ]
  },
  {
   "cell_type": "code",
   "execution_count": 11,
   "id": "917da670",
   "metadata": {},
   "outputs": [],
   "source": [
    "test = datasets.FashionMNIST(\n",
    "    root = 'data',\n",
    "    train = False,\n",
    "    download = True,\n",
    "    transform = ToTensor())"
   ]
  },
  {
   "cell_type": "code",
   "execution_count": 12,
   "id": "cd73ba37",
   "metadata": {},
   "outputs": [
    {
     "data": {
      "text/plain": [
       "Dataset FashionMNIST\n",
       "    Number of datapoints: 10000\n",
       "    Root location: data\n",
       "    Split: Test\n",
       "    StandardTransform\n",
       "Transform: ToTensor()"
      ]
     },
     "execution_count": 12,
     "metadata": {},
     "output_type": "execute_result"
    }
   ],
   "source": [
    "test"
   ]
  },
  {
   "cell_type": "code",
   "execution_count": 14,
   "id": "5b24ac4f",
   "metadata": {},
   "outputs": [],
   "source": [
    "batch_size = 64\n",
    "\n",
    "train_loader = DataLoader(train, batch_size=batch_size)\n",
    "test_loader = DataLoader(test, batch_size=batch_size)"
   ]
  },
  {
   "cell_type": "code",
   "execution_count": 15,
   "id": "55e0bbbe",
   "metadata": {},
   "outputs": [
    {
     "name": "stdout",
     "output_type": "stream",
     "text": [
      "Shape of X[N,C,H,W]: torch.Size([64, 1, 28, 28])\n",
      "Shape of y: (torch.Size([64]), torch.int64)\n"
     ]
    }
   ],
   "source": [
    "for X, y in test_loader:\n",
    "    print(f'Shape of X[N,C,H,W]: {X.shape}')\n",
    "    print(f'Shape of y: {y.shape, y.type}')\n",
    "    break"
   ]
  },
  {
   "cell_type": "code",
   "execution_count": 32,
   "id": "9ebafaf1",
   "metadata": {},
   "outputs": [
    {
     "name": "stdout",
     "output_type": "stream",
     "text": [
      "Using cpu device\n"
     ]
    }
   ],
   "source": [
    "device = \"cuda\" if torch.cuda.is_available() else \"cpu\"\n",
    "print(\"Using {} device\".format(device))"
   ]
  },
  {
   "cell_type": "code",
   "execution_count": 33,
   "id": "0e61e005",
   "metadata": {},
   "outputs": [
    {
     "name": "stdout",
     "output_type": "stream",
     "text": [
      "NeuralNetwork(\n",
      "  (flatten): Flatten(start_dim=1, end_dim=-1)\n",
      "  (linear_relu_stack): Sequential(\n",
      "    (0): Linear(in_features=784, out_features=512, bias=True)\n",
      "    (1): ReLU()\n",
      "    (2): Linear(in_features=512, out_features=512, bias=True)\n",
      "    (3): ReLU()\n",
      "    (4): Linear(in_features=512, out_features=10, bias=True)\n",
      "  )\n",
      ")\n"
     ]
    }
   ],
   "source": [
    "class NeuralNetwork(nn.Module):\n",
    "    def __init__(self):\n",
    "        super(NeuralNetwork, self).__init__()\n",
    "        self.flatten = nn.Flatten()\n",
    "        self.linear_relu_stack = nn.Sequential(\n",
    "            nn.Linear(28*28, 512),\n",
    "            nn.ReLU(),\n",
    "            nn.Linear(512, 512),\n",
    "            nn.ReLU(),\n",
    "            nn.Linear(512, 10)\n",
    "        )\n",
    "\n",
    "    def forward(self, x):\n",
    "        x = self.flatten(x)\n",
    "        logits = self.linear_relu_stack(x)\n",
    "        return logits\n",
    "\n",
    "model = NeuralNetwork().to(device)\n",
    "print(model)"
   ]
  },
  {
   "cell_type": "code",
   "execution_count": 34,
   "id": "fa6493b2",
   "metadata": {},
   "outputs": [],
   "source": [
    "loss_fn = nn.CrossEntropyLoss()\n",
    "optimizer = torch.optim.SGD(model.parameters(), lr = 1e-3)"
   ]
  },
  {
   "cell_type": "code",
   "execution_count": 35,
   "id": "d4a4f70a",
   "metadata": {},
   "outputs": [],
   "source": [
    "def train(dataloader, model, loss_fn, optimizer):\n",
    "    size = len(dataloader.dataset)\n",
    "    model.train()\n",
    "    for batch, (X,y) in enumerate(dataloader):\n",
    "        X, y = X.to(device), y.to(device)\n",
    "        \n",
    "        pred = model(X)\n",
    "        loss = loss_fn(pred, y)\n",
    "        \n",
    "        optimizer.zero_grad()\n",
    "        loss.backward()\n",
    "        optimizer.step()\n",
    "        \n",
    "        if batch %100 == 0:\n",
    "            loss, current = loss.item(), batch * len(X)\n",
    "            print(f'loss: {loss:>7f} [{current:>5d}/{size:>5d}]')"
   ]
  },
  {
   "cell_type": "code",
   "execution_count": 37,
   "id": "8ba399f6",
   "metadata": {},
   "outputs": [],
   "source": [
    "def test(dataloader, model, loos_fn):\n",
    "    size = len(dataloader.dataset)\n",
    "    num_batches = len(dataloader)\n",
    "    model.eval()\n",
    "    test_loss, correct = 0, 0\n",
    "    \n",
    "    with torch.no_grad():\n",
    "        for X, y in dataloader:\n",
    "            X, y = X.to(device), y.to(device)\n",
    "            pred = model(X)\n",
    "            test_loss += loss_fn(pred, y).item()\n",
    "            correct += (pred.argmax(1) == y).type(torch.float).sum().item()\n",
    "        test_loss /= num_batches\n",
    "        correct /= size\n",
    "        print(f'Test Error: \\nAccuracy: {(100*correct): >0.1f} %, Avg.loss {test_loss: >8f}')"
   ]
  },
  {
   "cell_type": "code",
   "execution_count": 38,
   "id": "a333829d",
   "metadata": {},
   "outputs": [
    {
     "name": "stdout",
     "output_type": "stream",
     "text": [
      "Epochs 1\n",
      " ---------------\n",
      "loss: 2.294840 [    0/60000]\n",
      "loss: 2.290601 [ 6400/60000]\n",
      "loss: 2.264989 [12800/60000]\n",
      "loss: 2.264198 [19200/60000]\n",
      "loss: 2.240744 [25600/60000]\n",
      "loss: 2.200069 [32000/60000]\n",
      "loss: 2.218206 [38400/60000]\n",
      "loss: 2.171299 [44800/60000]\n",
      "loss: 2.175601 [51200/60000]\n",
      "loss: 2.139557 [57600/60000]\n",
      "Test Error: \n",
      "Accuracy: 45.5 %, Avg.loss 2.135807\n",
      "Done\n",
      "Epochs 2\n",
      " ---------------\n",
      "loss: 2.148025 [    0/60000]\n",
      "loss: 2.140689 [ 6400/60000]\n",
      "loss: 2.071841 [12800/60000]\n",
      "loss: 2.091263 [19200/60000]\n",
      "loss: 2.034857 [25600/60000]\n",
      "loss: 1.965549 [32000/60000]\n",
      "loss: 2.000411 [38400/60000]\n",
      "loss: 1.908398 [44800/60000]\n",
      "loss: 1.915700 [51200/60000]\n",
      "loss: 1.830350 [57600/60000]\n",
      "Test Error: \n",
      "Accuracy: 56.6 %, Avg.loss 1.838402\n",
      "Done\n",
      "Epochs 3\n",
      " ---------------\n",
      "loss: 1.878605 [    0/60000]\n",
      "loss: 1.845754 [ 6400/60000]\n",
      "loss: 1.718034 [12800/60000]\n",
      "loss: 1.760356 [19200/60000]\n",
      "loss: 1.651418 [25600/60000]\n",
      "loss: 1.602439 [32000/60000]\n",
      "loss: 1.634363 [38400/60000]\n",
      "loss: 1.532113 [44800/60000]\n",
      "loss: 1.560167 [51200/60000]\n",
      "loss: 1.448913 [57600/60000]\n",
      "Test Error: \n",
      "Accuracy: 61.1 %, Avg.loss 1.476564\n",
      "Done\n",
      "Epochs 4\n",
      " ---------------\n",
      "loss: 1.546795 [    0/60000]\n",
      "loss: 1.513430 [ 6400/60000]\n",
      "loss: 1.362937 [12800/60000]\n",
      "loss: 1.438406 [19200/60000]\n",
      "loss: 1.322923 [25600/60000]\n",
      "loss: 1.316459 [32000/60000]\n",
      "loss: 1.347710 [38400/60000]\n",
      "loss: 1.264825 [44800/60000]\n",
      "loss: 1.306759 [51200/60000]\n",
      "loss: 1.205145 [57600/60000]\n",
      "Test Error: \n",
      "Accuracy: 63.4 %, Avg.loss 1.233411\n",
      "Done\n",
      "Epochs 5\n",
      " ---------------\n",
      "loss: 1.309119 [    0/60000]\n",
      "loss: 1.291577 [ 6400/60000]\n",
      "loss: 1.128176 [12800/60000]\n",
      "loss: 1.236984 [19200/60000]\n",
      "loss: 1.113579 [25600/60000]\n",
      "loss: 1.130826 [32000/60000]\n",
      "loss: 1.171130 [38400/60000]\n",
      "loss: 1.095300 [44800/60000]\n",
      "loss: 1.146865 [51200/60000]\n",
      "loss: 1.057888 [57600/60000]\n",
      "Test Error: \n",
      "Accuracy: 64.8 %, Avg.loss 1.079966\n",
      "Done\n"
     ]
    }
   ],
   "source": [
    "epochs = 5\n",
    "\n",
    "for t in range(epochs):\n",
    "    print(f'Epochs {t+1}\\n ---------------')\n",
    "    train(train_loader,model, loss_fn, optimizer)\n",
    "    test(test_loader,model, loss_fn)\n",
    "    print('Done')"
   ]
  },
  {
   "cell_type": "code",
   "execution_count": null,
   "id": "91dfabb6",
   "metadata": {},
   "outputs": [],
   "source": []
  }
 ],
 "metadata": {
  "kernelspec": {
   "display_name": "Python 3",
   "language": "python",
   "name": "python3"
  },
  "language_info": {
   "codemirror_mode": {
    "name": "ipython",
    "version": 3
   },
   "file_extension": ".py",
   "mimetype": "text/x-python",
   "name": "python",
   "nbconvert_exporter": "python",
   "pygments_lexer": "ipython3",
   "version": "3.8.8"
  }
 },
 "nbformat": 4,
 "nbformat_minor": 5
}
