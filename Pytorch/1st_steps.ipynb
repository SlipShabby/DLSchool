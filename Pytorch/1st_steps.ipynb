{
 "cells": [
  {
   "cell_type": "code",
   "execution_count": 1,
   "id": "1178130c",
   "metadata": {},
   "outputs": [],
   "source": [
    "import torch"
   ]
  },
  {
   "cell_type": "code",
   "execution_count": 2,
   "id": "82887735",
   "metadata": {},
   "outputs": [],
   "source": [
    "x = torch.rand(3,5)"
   ]
  },
  {
   "cell_type": "code",
   "execution_count": 3,
   "id": "92528cb8",
   "metadata": {},
   "outputs": [
    {
     "data": {
      "text/plain": [
       "tensor([[0.6377, 0.5303, 0.8268, 0.9287, 0.1826],\n",
       "        [0.6539, 0.0270, 0.4157, 0.3265, 0.1726],\n",
       "        [0.6405, 0.0505, 0.0141, 0.6024, 0.7342]])"
      ]
     },
     "execution_count": 3,
     "metadata": {},
     "output_type": "execute_result"
    }
   ],
   "source": [
    "x"
   ]
  },
  {
   "cell_type": "code",
   "execution_count": 4,
   "id": "fe4fd704",
   "metadata": {},
   "outputs": [],
   "source": [
    "from torch import nn\n",
    "from torch.utils.data import DataLoader\n",
    "from torchvision import datasets\n",
    "from torchvision.transforms import ToTensor, Lambda, Compose\n",
    "\n",
    "import matplotlib.pyplot as plt"
   ]
  },
  {
   "cell_type": "code",
   "execution_count": 5,
   "id": "831ff344",
   "metadata": {},
   "outputs": [],
   "source": [
    "# Download training data from open datasets.\n",
    "train_data = datasets.FashionMNIST(\n",
    "    root=\"data\",\n",
    "    train=True,\n",
    "    download=True,\n",
    "    transform=ToTensor(),\n",
    ")\n",
    "\n",
    "# Download test data from open datasets.\n",
    "test_data = datasets.FashionMNIST(\n",
    "    root=\"data\",\n",
    "    train=False,\n",
    "    download=True,\n",
    "    transform=ToTensor(),\n",
    ")"
   ]
  },
  {
   "cell_type": "code",
   "execution_count": null,
   "id": "917da670",
   "metadata": {},
   "outputs": [],
   "source": []
  },
  {
   "cell_type": "code",
   "execution_count": 6,
   "id": "cd73ba37",
   "metadata": {},
   "outputs": [
    {
     "data": {
      "text/plain": [
       "Dataset FashionMNIST\n",
       "    Number of datapoints: 10000\n",
       "    Root location: data\n",
       "    Split: Test\n",
       "    StandardTransform\n",
       "Transform: ToTensor()"
      ]
     },
     "execution_count": 6,
     "metadata": {},
     "output_type": "execute_result"
    }
   ],
   "source": [
    "test_data"
   ]
  },
  {
   "cell_type": "code",
   "execution_count": 7,
   "id": "5b24ac4f",
   "metadata": {},
   "outputs": [],
   "source": [
    "batch_size = 64\n",
    "\n",
    "train_loader = DataLoader(train_data, batch_size=batch_size)\n",
    "test_loader = DataLoader(test_data, batch_size=batch_size)"
   ]
  },
  {
   "cell_type": "code",
   "execution_count": 8,
   "id": "55e0bbbe",
   "metadata": {},
   "outputs": [
    {
     "name": "stdout",
     "output_type": "stream",
     "text": [
      "Shape of X[N,C,H,W]: torch.Size([64, 1, 28, 28])\n",
      "Shape of y: (torch.Size([64]), <built-in method type of Tensor object at 0x7fb6acdfacc0>)\n"
     ]
    }
   ],
   "source": [
    "for X, y in test_loader:\n",
    "    print(f'Shape of X[N,C,H,W]: {X.shape}')\n",
    "    print(f'Shape of y: {y.shape, y.type}')\n",
    "    break"
   ]
  },
  {
   "cell_type": "code",
   "execution_count": 9,
   "id": "9ebafaf1",
   "metadata": {},
   "outputs": [
    {
     "name": "stdout",
     "output_type": "stream",
     "text": [
      "Using cpu device\n"
     ]
    }
   ],
   "source": [
    "device = \"cuda\" if torch.cuda.is_available() else \"cpu\"\n",
    "print(\"Using {} device\".format(device))"
   ]
  },
  {
   "cell_type": "code",
   "execution_count": 10,
   "id": "0e61e005",
   "metadata": {},
   "outputs": [
    {
     "name": "stdout",
     "output_type": "stream",
     "text": [
      "NeuralNetwork(\n",
      "  (flatten): Flatten(start_dim=1, end_dim=-1)\n",
      "  (linear_relu_stack): Sequential(\n",
      "    (0): Linear(in_features=784, out_features=512, bias=True)\n",
      "    (1): ReLU()\n",
      "    (2): Linear(in_features=512, out_features=512, bias=True)\n",
      "    (3): ReLU()\n",
      "    (4): Linear(in_features=512, out_features=10, bias=True)\n",
      "  )\n",
      ")\n"
     ]
    }
   ],
   "source": [
    "class NeuralNetwork(nn.Module):\n",
    "    def __init__(self):\n",
    "        super(NeuralNetwork, self).__init__()\n",
    "        self.flatten = nn.Flatten()\n",
    "        self.linear_relu_stack = nn.Sequential(\n",
    "            nn.Linear(28*28, 512),\n",
    "            nn.ReLU(),\n",
    "            nn.Linear(512, 512),\n",
    "            nn.ReLU(),\n",
    "            nn.Linear(512, 10)\n",
    "        )\n",
    "\n",
    "    def forward(self, x):\n",
    "        x = self.flatten(x)\n",
    "        logits = self.linear_relu_stack(x)\n",
    "        return logits\n",
    "\n",
    "model = NeuralNetwork().to(device)\n",
    "print(model)"
   ]
  },
  {
   "cell_type": "code",
   "execution_count": 11,
   "id": "fa6493b2",
   "metadata": {},
   "outputs": [],
   "source": [
    "loss_fn = nn.CrossEntropyLoss()\n",
    "optimizer = torch.optim.SGD(model.parameters(), lr = 1e-3)"
   ]
  },
  {
   "cell_type": "code",
   "execution_count": 12,
   "id": "d4a4f70a",
   "metadata": {},
   "outputs": [],
   "source": [
    "def train(dataloader, model, loss_fn, optimizer):\n",
    "    size = len(dataloader.dataset)\n",
    "    model.train()\n",
    "    for batch, (X,y) in enumerate(dataloader):\n",
    "        X, y = X.to(device), y.to(device)\n",
    "        \n",
    "        pred = model(X)\n",
    "        loss = loss_fn(pred, y)\n",
    "        \n",
    "        optimizer.zero_grad()\n",
    "        loss.backward()\n",
    "        optimizer.step()\n",
    "        \n",
    "        if batch %100 == 0:\n",
    "            loss, current = loss.item(), batch * len(X)\n",
    "            print(f'loss: {loss:>7f} [{current:>5d}/{size:>5d}]')"
   ]
  },
  {
   "cell_type": "code",
   "execution_count": 13,
   "id": "8ba399f6",
   "metadata": {},
   "outputs": [],
   "source": [
    "def test(dataloader, model, loos_fn):\n",
    "    size = len(dataloader.dataset)\n",
    "    num_batches = len(dataloader)\n",
    "    model.eval()\n",
    "    test_loss, correct = 0, 0\n",
    "    \n",
    "    with torch.no_grad():\n",
    "        for X, y in dataloader:\n",
    "            X, y = X.to(device), y.to(device)\n",
    "            pred = model(X)\n",
    "            test_loss += loss_fn(pred, y).item()\n",
    "            correct += (pred.argmax(1) == y).type(torch.float).sum().item()\n",
    "        test_loss /= num_batches\n",
    "        correct /= size\n",
    "        print(f'Test Error: \\nAccuracy: {(100*correct): >0.1f} %, Avg.loss {test_loss: >8f}')"
   ]
  },
  {
   "cell_type": "code",
   "execution_count": 14,
   "id": "a333829d",
   "metadata": {},
   "outputs": [
    {
     "name": "stdout",
     "output_type": "stream",
     "text": [
      "Epochs 1\n",
      " ---------------\n",
      "loss: 2.300229 [    0/60000]\n",
      "loss: 2.282672 [ 6400/60000]\n",
      "loss: 2.273731 [12800/60000]\n",
      "loss: 2.263159 [19200/60000]\n",
      "loss: 2.247338 [25600/60000]\n",
      "loss: 2.225632 [32000/60000]\n",
      "loss: 2.226858 [38400/60000]\n",
      "loss: 2.197253 [44800/60000]\n",
      "loss: 2.184485 [51200/60000]\n",
      "loss: 2.158143 [57600/60000]\n",
      "Test Error: \n",
      "Accuracy: 52.8 %, Avg.loss 2.157298\n",
      "Done\n",
      "Epochs 2\n",
      " ---------------\n",
      "loss: 2.163103 [    0/60000]\n",
      "loss: 2.156682 [ 6400/60000]\n",
      "loss: 2.106363 [12800/60000]\n",
      "loss: 2.120665 [19200/60000]\n",
      "loss: 2.079228 [25600/60000]\n",
      "loss: 2.018616 [32000/60000]\n",
      "loss: 2.043540 [38400/60000]\n",
      "loss: 1.968733 [44800/60000]\n",
      "loss: 1.962046 [51200/60000]\n",
      "loss: 1.899745 [57600/60000]\n",
      "Test Error: \n",
      "Accuracy: 61.2 %, Avg.loss 1.905214\n",
      "Done\n",
      "Epochs 3\n",
      " ---------------\n",
      "loss: 1.926411 [    0/60000]\n",
      "loss: 1.907553 [ 6400/60000]\n",
      "loss: 1.795595 [12800/60000]\n",
      "loss: 1.836089 [19200/60000]\n",
      "loss: 1.735938 [25600/60000]\n",
      "loss: 1.678936 [32000/60000]\n",
      "loss: 1.692285 [38400/60000]\n",
      "loss: 1.593658 [44800/60000]\n",
      "loss: 1.608875 [51200/60000]\n",
      "loss: 1.505817 [57600/60000]\n",
      "Test Error: \n",
      "Accuracy: 62.2 %, Avg.loss 1.533454\n",
      "Done\n",
      "Epochs 4\n",
      " ---------------\n",
      "loss: 1.586067 [    0/60000]\n",
      "loss: 1.560567 [ 6400/60000]\n",
      "loss: 1.409489 [12800/60000]\n",
      "loss: 1.488483 [19200/60000]\n",
      "loss: 1.369516 [25600/60000]\n",
      "loss: 1.357594 [32000/60000]\n",
      "loss: 1.367068 [38400/60000]\n",
      "loss: 1.289170 [44800/60000]\n",
      "loss: 1.324138 [51200/60000]\n",
      "loss: 1.225285 [57600/60000]\n",
      "Test Error: \n",
      "Accuracy: 63.5 %, Avg.loss 1.257707\n",
      "Done\n",
      "Epochs 5\n",
      " ---------------\n",
      "loss: 1.324759 [    0/60000]\n",
      "loss: 1.311874 [ 6400/60000]\n",
      "loss: 1.144634 [12800/60000]\n",
      "loss: 1.260050 [19200/60000]\n",
      "loss: 1.133559 [25600/60000]\n",
      "loss: 1.154393 [32000/60000]\n",
      "loss: 1.172961 [38400/60000]\n",
      "loss: 1.105846 [44800/60000]\n",
      "loss: 1.149298 [51200/60000]\n",
      "loss: 1.067187 [57600/60000]\n",
      "Test Error: \n",
      "Accuracy: 64.8 %, Avg.loss 1.089594\n",
      "Done\n"
     ]
    }
   ],
   "source": [
    "epochs = 5\n",
    "\n",
    "for t in range(epochs):\n",
    "    print(f'Epochs {t+1}\\n ---------------')\n",
    "    train(train_loader,model, loss_fn, optimizer)\n",
    "    test(test_loader,model, loss_fn)\n",
    "    print('Done')"
   ]
  },
  {
   "cell_type": "code",
   "execution_count": 15,
   "id": "91dfabb6",
   "metadata": {},
   "outputs": [],
   "source": [
    "# save model\n",
    "torch.save(model.state_dict(), 'model.pth')\n"
   ]
  },
  {
   "cell_type": "code",
   "execution_count": 16,
   "id": "68ed8c35",
   "metadata": {},
   "outputs": [
    {
     "data": {
      "text/plain": [
       "<All keys matched successfully>"
      ]
     },
     "execution_count": 16,
     "metadata": {},
     "output_type": "execute_result"
    }
   ],
   "source": [
    "# load model\n",
    "model = NeuralNetwork()\n",
    "model.load_state_dict(torch.load('model.pth'))"
   ]
  },
  {
   "cell_type": "code",
   "execution_count": 17,
   "id": "9d6b0db2",
   "metadata": {},
   "outputs": [
    {
     "name": "stdout",
     "output_type": "stream",
     "text": [
      "Predicted: \"Ankle boot\", Actual: \"Ankle boot\"\n"
     ]
    }
   ],
   "source": [
    "classes = [\n",
    "    \"T-shirt/top\",\n",
    "    \"Trouser\",\n",
    "    \"Pullover\",\n",
    "    \"Dress\",\n",
    "    \"Coat\",\n",
    "    \"Sandal\",\n",
    "    \"Shirt\",\n",
    "    \"Sneaker\",\n",
    "    \"Bag\",\n",
    "    \"Ankle boot\",\n",
    "]\n",
    "\n",
    "model.eval()\n",
    "x, y = test_data[0][0], test_data[0][1]\n",
    "with torch.no_grad():\n",
    "    pred = model(x)\n",
    "    predicted, actual = classes[pred[0].argmax(0)], classes[y]\n",
    "    print(f'Predicted: \"{predicted}\", Actual: \"{actual}\"')"
   ]
  },
  {
   "cell_type": "code",
   "execution_count": null,
   "id": "b5eee8cc",
   "metadata": {},
   "outputs": [],
   "source": []
  }
 ],
 "metadata": {
  "kernelspec": {
   "display_name": "Python 3",
   "language": "python",
   "name": "python3"
  },
  "language_info": {
   "codemirror_mode": {
    "name": "ipython",
    "version": 3
   },
   "file_extension": ".py",
   "mimetype": "text/x-python",
   "name": "python",
   "nbconvert_exporter": "python",
   "pygments_lexer": "ipython3",
   "version": "3.8.8"
  }
 },
 "nbformat": 4,
 "nbformat_minor": 5
}
