{
 "cells": [
  {
   "cell_type": "code",
   "execution_count": 5,
   "id": "30b6c33f",
   "metadata": {},
   "outputs": [],
   "source": [
    "import torch"
   ]
  },
  {
   "cell_type": "code",
   "execution_count": 6,
   "id": "5a2f4e40",
   "metadata": {},
   "outputs": [],
   "source": [
    "x = torch.rand(3,5)"
   ]
  },
  {
   "cell_type": "code",
   "execution_count": 7,
   "id": "697d3234",
   "metadata": {},
   "outputs": [
    {
     "data": {
      "text/plain": [
       "tensor([[0.4320, 0.5769, 0.7935, 0.5890, 0.0791],\n",
       "        [0.3873, 0.9429, 0.1221, 0.3006, 0.6264],\n",
       "        [0.1811, 0.0987, 0.3475, 0.6441, 0.7278]])"
      ]
     },
     "execution_count": 7,
     "metadata": {},
     "output_type": "execute_result"
    }
   ],
   "source": [
    "x"
   ]
  },
  {
   "cell_type": "code",
   "execution_count": null,
   "id": "8f94072c",
   "metadata": {},
   "outputs": [],
   "source": []
  }
 ],
 "metadata": {
  "kernelspec": {
   "display_name": "Python 3",
   "language": "python",
   "name": "python3"
  },
  "language_info": {
   "codemirror_mode": {
    "name": "ipython",
    "version": 3
   },
   "file_extension": ".py",
   "mimetype": "text/x-python",
   "name": "python",
   "nbconvert_exporter": "python",
   "pygments_lexer": "ipython3",
   "version": "3.8.8"
  }
 },
 "nbformat": 4,
 "nbformat_minor": 5
}
