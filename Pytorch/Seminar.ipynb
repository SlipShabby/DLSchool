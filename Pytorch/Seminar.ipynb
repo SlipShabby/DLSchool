{
 "cells": [
  {
   "cell_type": "code",
   "execution_count": 1,
   "id": "9ef2063b",
   "metadata": {},
   "outputs": [],
   "source": [
    "import torch"
   ]
  },
  {
   "cell_type": "code",
   "execution_count": 49,
   "id": "63789f07",
   "metadata": {},
   "outputs": [
    {
     "data": {
      "text/plain": [
       "tensor([[1., 2., 3.],\n",
       "        [4., 5., 6.]])"
      ]
     },
     "execution_count": 49,
     "metadata": {},
     "output_type": "execute_result"
    }
   ],
   "source": [
    "# create\n",
    "a = torch.FloatTensor([[1,2,3],[4,5,6]])\n",
    "a"
   ]
  },
  {
   "cell_type": "code",
   "execution_count": 3,
   "id": "b07524bd",
   "metadata": {},
   "outputs": [
    {
     "data": {
      "text/plain": [
       "torch.Size([2, 3])"
      ]
     },
     "execution_count": 3,
     "metadata": {},
     "output_type": "execute_result"
    }
   ],
   "source": [
    "a.shape"
   ]
  },
  {
   "cell_type": "code",
   "execution_count": 23,
   "id": "6bde4315",
   "metadata": {},
   "outputs": [
    {
     "data": {
      "text/plain": [
       "tensor([ 0.0000e+00, -2.0000e+00,  9.2251e-35, -4.6577e-10,  4.2039e-44,\n",
       "         0.0000e+00,  8.7396e+26,  4.5783e-41,  8.7396e+26,  4.5783e-41,\n",
       "         0.0000e+00,  0.0000e+00,  3.5733e-43,  0.0000e+00,  0.0000e+00,\n",
       "         0.0000e+00,  0.0000e+00,  0.0000e+00,  0.0000e+00,  0.0000e+00,\n",
       "         0.0000e+00,  0.0000e+00,  3.5733e-43,  0.0000e+00,  0.0000e+00,\n",
       "         0.0000e+00,  0.0000e+00,  0.0000e+00,  0.0000e+00,  0.0000e+00,\n",
       "         0.0000e+00,  0.0000e+00,  3.5733e-43,  0.0000e+00,  7.1466e-44,\n",
       "         0.0000e+00,  8.7396e+26,  4.5783e-41,  8.7396e+26,  4.5783e-41,\n",
       "         0.0000e+00,  0.0000e+00,  3.5733e-43,  0.0000e+00,  0.0000e+00,\n",
       "         0.0000e+00,  0.0000e+00,  0.0000e+00,  0.0000e+00,  0.0000e+00,\n",
       "         0.0000e+00,  0.0000e+00,  3.5733e-43,  0.0000e+00,  0.0000e+00,\n",
       "         0.0000e+00,  0.0000e+00,  0.0000e+00,  0.0000e+00,  0.0000e+00,\n",
       "         0.0000e+00,  0.0000e+00,  3.5733e-43,  0.0000e+00,  8.8282e-44,\n",
       "         0.0000e+00,  8.7397e+26,  4.5783e-41,  8.7397e+26,  4.5783e-41,\n",
       "         0.0000e+00,  0.0000e+00,  3.5733e-43,  0.0000e+00,  0.0000e+00,\n",
       "         0.0000e+00,  0.0000e+00,  0.0000e+00,  0.0000e+00,  0.0000e+00,\n",
       "         0.0000e+00,  0.0000e+00,  3.5733e-43,  0.0000e+00,  0.0000e+00,\n",
       "         0.0000e+00,  0.0000e+00,  0.0000e+00,  0.0000e+00,  0.0000e+00,\n",
       "         0.0000e+00,  0.0000e+00,  3.5733e-43,  0.0000e+00,  0.0000e+00,\n",
       "         0.0000e+00,  0.0000e+00,  0.0000e+00,  0.0000e+00,  0.0000e+00])"
      ]
     },
     "execution_count": 23,
     "metadata": {},
     "output_type": "execute_result"
    }
   ],
   "source": [
    "b = torch.FloatTensor(100)\n",
    "b"
   ]
  },
  {
   "cell_type": "code",
   "execution_count": 12,
   "id": "3c369a85",
   "metadata": {},
   "outputs": [
    {
     "data": {
      "text/plain": [
       "torch.Size([100])"
      ]
     },
     "execution_count": 12,
     "metadata": {},
     "output_type": "execute_result"
    }
   ],
   "source": [
    "b.shape"
   ]
  },
  {
   "cell_type": "code",
   "execution_count": 21,
   "id": "2b550866",
   "metadata": {},
   "outputs": [
    {
     "data": {
      "text/plain": [
       "tensor([[[0., 0., 0., 0.],\n",
       "         [0., 0., 0., 0.]],\n",
       "\n",
       "        [[0., 0., 0., 0.],\n",
       "         [0., 0., 0., 0.]],\n",
       "\n",
       "        [[0., 0., 0., 0.],\n",
       "         [0., 0., 0., 0.]]])"
      ]
     },
     "execution_count": 21,
     "metadata": {},
     "output_type": "execute_result"
    }
   ],
   "source": [
    "x1 = torch.FloatTensor(3,2,4).zero_()\n",
    "x1"
   ]
  },
  {
   "cell_type": "code",
   "execution_count": 22,
   "id": "a14aac23",
   "metadata": {},
   "outputs": [
    {
     "data": {
      "text/plain": [
       "tensor([[[0., 0., 0., 0.],\n",
       "         [0., 0., 0., 0.]],\n",
       "\n",
       "        [[0., 0., 0., 0.],\n",
       "         [0., 0., 0., 0.]],\n",
       "\n",
       "        [[0., 0., 0., 0.],\n",
       "         [0., 0., 0., 0.]]])"
      ]
     },
     "execution_count": 22,
     "metadata": {},
     "output_type": "execute_result"
    }
   ],
   "source": [
    "x2 = torch.zeros(3,2,4)\n",
    "x2"
   ]
  },
  {
   "cell_type": "code",
   "execution_count": 20,
   "id": "99546fa2",
   "metadata": {},
   "outputs": [
    {
     "data": {
      "text/plain": [
       "tensor([[[0., 0., 0., 0.],\n",
       "         [0., 0., 0., 0.]],\n",
       "\n",
       "        [[0., 0., 0., 0.],\n",
       "         [0., 0., 0., 0.]],\n",
       "\n",
       "        [[0., 0., 0., 0.],\n",
       "         [0., 0., 0., 0.]]])"
      ]
     },
     "execution_count": 20,
     "metadata": {},
     "output_type": "execute_result"
    }
   ],
   "source": [
    "x3 = torch.zeros_like(x1)\n",
    "x3"
   ]
  },
  {
   "cell_type": "code",
   "execution_count": 19,
   "id": "32880d16",
   "metadata": {},
   "outputs": [
    {
     "data": {
      "text/plain": [
       "tensor([[ 1.1778, -1.2132, -0.1041],\n",
       "        [ 0.3456,  1.2857, -0.6548]])"
      ]
     },
     "execution_count": 19,
     "metadata": {},
     "output_type": "execute_result"
    }
   ],
   "source": [
    "x = torch.randn((2,3))\n",
    "x"
   ]
  },
  {
   "cell_type": "code",
   "execution_count": 26,
   "id": "ed0ca1d1",
   "metadata": {},
   "outputs": [
    {
     "data": {
      "text/plain": [
       "tensor([[1., 0., 1.],\n",
       "        [1., 0., 0.]])"
      ]
     },
     "execution_count": 26,
     "metadata": {},
     "output_type": "execute_result"
    }
   ],
   "source": [
    "x.random_(0,10)\n",
    "x.uniform_(0,1)\n",
    "x.normal_(mean = 0, std =1)\n",
    "x.bernoulli_(p=0.5)"
   ]
  },
  {
   "cell_type": "code",
   "execution_count": 28,
   "id": "9ed9936e",
   "metadata": {},
   "outputs": [
    {
     "data": {
      "text/plain": [
       "torch.Size([2, 3])"
      ]
     },
     "execution_count": 28,
     "metadata": {},
     "output_type": "execute_result"
    }
   ],
   "source": [
    "# shape\n",
    "a.shape"
   ]
  },
  {
   "cell_type": "code",
   "execution_count": 29,
   "id": "add064ae",
   "metadata": {},
   "outputs": [
    {
     "data": {
      "text/plain": [
       "tensor([[1., 2.],\n",
       "        [3., 4.],\n",
       "        [5., 6.]])"
      ]
     },
     "execution_count": 29,
     "metadata": {},
     "output_type": "execute_result"
    }
   ],
   "source": [
    "a.view(3,2)"
   ]
  },
  {
   "cell_type": "code",
   "execution_count": 30,
   "id": "d49859c6",
   "metadata": {},
   "outputs": [
    {
     "data": {
      "text/plain": [
       "tensor([[1., 2., 3.],\n",
       "        [4., 5., 6.]])"
      ]
     },
     "execution_count": 30,
     "metadata": {},
     "output_type": "execute_result"
    }
   ],
   "source": [
    "a"
   ]
  },
  {
   "cell_type": "code",
   "execution_count": 31,
   "id": "e4843250",
   "metadata": {},
   "outputs": [
    {
     "data": {
      "text/plain": [
       "(3, 1)"
      ]
     },
     "execution_count": 31,
     "metadata": {},
     "output_type": "execute_result"
    }
   ],
   "source": [
    "a.stride()"
   ]
  },
  {
   "cell_type": "code",
   "execution_count": 34,
   "id": "8ded97c2",
   "metadata": {},
   "outputs": [
    {
     "data": {
      "text/plain": [
       "(1, 3)"
      ]
     },
     "execution_count": 34,
     "metadata": {},
     "output_type": "execute_result"
    }
   ],
   "source": [
    "a.T.stride()"
   ]
  },
  {
   "cell_type": "code",
   "execution_count": 37,
   "id": "f3be43ca",
   "metadata": {},
   "outputs": [
    {
     "data": {
      "text/plain": [
       "(True, False)"
      ]
     },
     "execution_count": 37,
     "metadata": {},
     "output_type": "execute_result"
    }
   ],
   "source": [
    "a.is_contiguous(), a.T.is_contiguous()"
   ]
  },
  {
   "cell_type": "code",
   "execution_count": 38,
   "id": "7d984cfa",
   "metadata": {},
   "outputs": [
    {
     "data": {
      "text/plain": [
       "tensor([1., 2., 3., 4., 5., 6.])"
      ]
     },
     "execution_count": 38,
     "metadata": {},
     "output_type": "execute_result"
    }
   ],
   "source": [
    "a.reshape(-1)"
   ]
  },
  {
   "cell_type": "code",
   "execution_count": 44,
   "id": "68d2d01b",
   "metadata": {},
   "outputs": [
    {
     "data": {
      "text/plain": [
       "tensor([[1., 2.],\n",
       "        [3., 4.],\n",
       "        [5., 6.]])"
      ]
     },
     "execution_count": 44,
     "metadata": {},
     "output_type": "execute_result"
    }
   ],
   "source": [
    "a.reshape((3,2))"
   ]
  },
  {
   "cell_type": "code",
   "execution_count": 45,
   "id": "1379c5b8",
   "metadata": {},
   "outputs": [
    {
     "data": {
      "text/plain": [
       "tensor([[1, 2, 3],\n",
       "        [4, 5, 6]], dtype=torch.int32)"
      ]
     },
     "execution_count": 45,
     "metadata": {},
     "output_type": "execute_result"
    }
   ],
   "source": [
    "# casting\n",
    "a.type_as(torch.IntTensor())"
   ]
  },
  {
   "cell_type": "code",
   "execution_count": 46,
   "id": "8b4a9e32",
   "metadata": {},
   "outputs": [
    {
     "data": {
      "text/plain": [
       "tensor([[1., 2., 3.],\n",
       "        [4., 5., 6.]])"
      ]
     },
     "execution_count": 46,
     "metadata": {},
     "output_type": "execute_result"
    }
   ],
   "source": [
    "a"
   ]
  },
  {
   "cell_type": "code",
   "execution_count": 47,
   "id": "a64c2276",
   "metadata": {},
   "outputs": [
    {
     "data": {
      "text/plain": [
       "tensor([[1, 2, 3],\n",
       "        [4, 5, 6]], dtype=torch.int32)"
      ]
     },
     "execution_count": 47,
     "metadata": {},
     "output_type": "execute_result"
    }
   ],
   "source": [
    "a.to(torch.int32)"
   ]
  },
  {
   "cell_type": "code",
   "execution_count": 48,
   "id": "d6473108",
   "metadata": {},
   "outputs": [
    {
     "data": {
      "text/plain": [
       "tensor([[1, 2, 3],\n",
       "        [4, 5, 6]], dtype=torch.uint8)"
      ]
     },
     "execution_count": 48,
     "metadata": {},
     "output_type": "execute_result"
    }
   ],
   "source": [
    "a.type_as(torch.ByteTensor())"
   ]
  },
  {
   "cell_type": "code",
   "execution_count": 50,
   "id": "a88205f6",
   "metadata": {},
   "outputs": [
    {
     "data": {
      "text/plain": [
       "tensor(1.)"
      ]
     },
     "execution_count": 50,
     "metadata": {},
     "output_type": "execute_result"
    }
   ],
   "source": [
    "# indexing\n",
    "a[0,0]"
   ]
  },
  {
   "cell_type": "code",
   "execution_count": 51,
   "id": "6e23d691",
   "metadata": {},
   "outputs": [
    {
     "data": {
      "text/plain": [
       "tensor([2., 5.])"
      ]
     },
     "execution_count": 51,
     "metadata": {},
     "output_type": "execute_result"
    }
   ],
   "source": [
    "a[0:2,1]"
   ]
  },
  {
   "cell_type": "code",
   "execution_count": 54,
   "id": "864756d4",
   "metadata": {},
   "outputs": [],
   "source": [
    "# operations\n",
    "b = torch.FloatTensor([[2,3,4],[1,2,3]])"
   ]
  },
  {
   "cell_type": "code",
   "execution_count": 55,
   "id": "4e9bd5a4",
   "metadata": {},
   "outputs": [
    {
     "data": {
      "text/plain": [
       "tensor([[3., 5., 7.],\n",
       "        [5., 7., 9.]])"
      ]
     },
     "execution_count": 55,
     "metadata": {},
     "output_type": "execute_result"
    }
   ],
   "source": [
    "a+b"
   ]
  },
  {
   "cell_type": "code",
   "execution_count": 56,
   "id": "2d133a25",
   "metadata": {},
   "outputs": [
    {
     "data": {
      "text/plain": [
       "tensor([[-1., -1., -1.],\n",
       "        [ 3.,  3.,  3.]])"
      ]
     },
     "execution_count": 56,
     "metadata": {},
     "output_type": "execute_result"
    }
   ],
   "source": [
    "a-b"
   ]
  },
  {
   "cell_type": "code",
   "execution_count": 57,
   "id": "fcace9d4",
   "metadata": {},
   "outputs": [
    {
     "data": {
      "text/plain": [
       "tensor([[ 2.,  6., 12.],\n",
       "        [ 4., 10., 18.]])"
      ]
     },
     "execution_count": 57,
     "metadata": {},
     "output_type": "execute_result"
    }
   ],
   "source": [
    "a*b"
   ]
  },
  {
   "cell_type": "code",
   "execution_count": 58,
   "id": "21932289",
   "metadata": {},
   "outputs": [
    {
     "data": {
      "text/plain": [
       "tensor([[0.5000, 0.6667, 0.7500],\n",
       "        [4.0000, 2.5000, 2.0000]])"
      ]
     },
     "execution_count": 58,
     "metadata": {},
     "output_type": "execute_result"
    }
   ],
   "source": [
    "a/b"
   ]
  },
  {
   "cell_type": "code",
   "execution_count": 59,
   "id": "145dfc08",
   "metadata": {},
   "outputs": [
    {
     "data": {
      "text/plain": [
       "tensor([[ 2.,  6., 12.],\n",
       "        [ 4., 10., 18.]])"
      ]
     },
     "execution_count": 59,
     "metadata": {},
     "output_type": "execute_result"
    }
   ],
   "source": [
    "a.mul(b)"
   ]
  },
  {
   "cell_type": "code",
   "execution_count": 60,
   "id": "31cf37af",
   "metadata": {},
   "outputs": [
    {
     "data": {
      "text/plain": [
       "tensor([[False, False, False],\n",
       "        [False, False, False]])"
      ]
     },
     "execution_count": 60,
     "metadata": {},
     "output_type": "execute_result"
    }
   ],
   "source": [
    "# comparison\n",
    "a == b"
   ]
  },
  {
   "cell_type": "code",
   "execution_count": 61,
   "id": "ec7bae09",
   "metadata": {},
   "outputs": [
    {
     "data": {
      "text/plain": [
       "tensor([[True, True, True],\n",
       "        [True, True, True]])"
      ]
     },
     "execution_count": 61,
     "metadata": {},
     "output_type": "execute_result"
    }
   ],
   "source": [
    "a != b"
   ]
  },
  {
   "cell_type": "code",
   "execution_count": 62,
   "id": "49d6f1bc",
   "metadata": {},
   "outputs": [
    {
     "data": {
      "text/plain": [
       "(tensor([[False, False, False],\n",
       "         [ True,  True,  True]]),\n",
       " tensor([[ True,  True,  True],\n",
       "         [False, False, False]]))"
      ]
     },
     "execution_count": 62,
     "metadata": {},
     "output_type": "execute_result"
    }
   ],
   "source": [
    "a > b, a < b"
   ]
  },
  {
   "cell_type": "code",
   "execution_count": 63,
   "id": "2c914045",
   "metadata": {},
   "outputs": [
    {
     "data": {
      "text/plain": [
       "tensor([4., 5., 6.])"
      ]
     },
     "execution_count": 63,
     "metadata": {},
     "output_type": "execute_result"
    }
   ],
   "source": [
    "# masks\n",
    "a[a>b]"
   ]
  },
  {
   "cell_type": "code",
   "execution_count": 66,
   "id": "4db6e484",
   "metadata": {},
   "outputs": [
    {
     "data": {
      "text/plain": [
       "(tensor([[ 0.8415,  0.9093,  0.1411],\n",
       "         [-0.7568, -0.9589, -0.2794]]),\n",
       " tensor([[1., 2., 3.],\n",
       "         [4., 5., 6.]]))"
      ]
     },
     "execution_count": 66,
     "metadata": {},
     "output_type": "execute_result"
    }
   ],
   "source": [
    "# universal fn\n",
    "a.sin(), a.abs()"
   ]
  },
  {
   "cell_type": "code",
   "execution_count": 65,
   "id": "026b5633",
   "metadata": {},
   "outputs": [
    {
     "data": {
      "text/plain": [
       "(tensor([[  2.7183,   7.3891,  20.0855],\n",
       "         [ 54.5982, 148.4132, 403.4288]]),\n",
       " tensor([[0.0000, 0.6931, 1.0986],\n",
       "         [1.3863, 1.6094, 1.7918]]))"
      ]
     },
     "execution_count": 65,
     "metadata": {},
     "output_type": "execute_result"
    }
   ],
   "source": [
    "a.exp(), a.log()"
   ]
  },
  {
   "cell_type": "code",
   "execution_count": 69,
   "id": "658de049",
   "metadata": {},
   "outputs": [
    {
     "data": {
      "text/plain": [
       "(tensor([ 6., 15.]), tensor([5., 7., 9.]))"
      ]
     },
     "execution_count": 69,
     "metadata": {},
     "output_type": "execute_result"
    }
   ],
   "source": [
    "a.sum(dim=1), a.sum(dim=0)"
   ]
  },
  {
   "cell_type": "code",
   "execution_count": 70,
   "id": "6a1bcadd",
   "metadata": {},
   "outputs": [
    {
     "data": {
      "text/plain": [
       "torch.Size([3, 1, 3])"
      ]
     },
     "execution_count": 70,
     "metadata": {},
     "output_type": "execute_result"
    }
   ],
   "source": [
    "# false axes\n",
    "\n",
    "a = torch.FloatTensor([[1,2,3],[10,20,30],[100,200,300]])\n",
    "a[:,None, :].shape"
   ]
  },
  {
   "cell_type": "code",
   "execution_count": 73,
   "id": "b22c0fc4",
   "metadata": {},
   "outputs": [
    {
     "data": {
      "text/plain": [
       "(tensor([[[  1.,   2.,   3.],\n",
       "          [ 10.,  20.,  30.],\n",
       "          [100., 200., 300.]]]),\n",
       " tensor([[[  1.,   2.,   3.]],\n",
       " \n",
       "         [[ 10.,  20.,  30.]],\n",
       " \n",
       "         [[100., 200., 300.]]]),\n",
       " tensor([[[  1.],\n",
       "          [  2.],\n",
       "          [  3.]],\n",
       " \n",
       "         [[ 10.],\n",
       "          [ 20.],\n",
       "          [ 30.]],\n",
       " \n",
       "         [[100.],\n",
       "          [200.],\n",
       "          [300.]]]))"
      ]
     },
     "execution_count": 73,
     "metadata": {},
     "output_type": "execute_result"
    }
   ],
   "source": [
    "a[None, :, :], a[:,None, :], a[:,:,None]"
   ]
  },
  {
   "cell_type": "code",
   "execution_count": 74,
   "id": "df808201",
   "metadata": {},
   "outputs": [],
   "source": [
    "# example\n",
    "\n",
    "def vertical_mean(a):\n",
    "    result = a.mean(dim=0)\n",
    "    return result"
   ]
  },
  {
   "cell_type": "code",
   "execution_count": 75,
   "id": "bf0808fa",
   "metadata": {},
   "outputs": [],
   "source": [
    "a = torch.FloatTensor([[1,4],[2,7]])"
   ]
  },
  {
   "cell_type": "code",
   "execution_count": 76,
   "id": "0f49d935",
   "metadata": {},
   "outputs": [
    {
     "data": {
      "text/plain": [
       "tensor([1.5000, 5.5000])"
      ]
     },
     "execution_count": 76,
     "metadata": {},
     "output_type": "execute_result"
    }
   ],
   "source": [
    "vertical_mean(a)"
   ]
  },
  {
   "cell_type": "code",
   "execution_count": 89,
   "id": "7d6f72e3",
   "metadata": {},
   "outputs": [],
   "source": [
    "# normalize picture\n",
    "\n",
    "def normalize_picture(a):\n",
    "    '''\n",
    "    a : [batch_size, n_channels, W, L]\n",
    "    '''\n",
    "    m = a.mean(dim=(2,3))\n",
    "    \n",
    "    sigma = a.std(dim=(2,3))\n",
    "    \n",
    "    result = (a-m[:,:,None, None])/sigma[:,:,None, None]\n",
    "    \n",
    "    \n",
    "    return result\n"
   ]
  },
  {
   "cell_type": "code",
   "execution_count": 90,
   "id": "c1dc6566",
   "metadata": {},
   "outputs": [
    {
     "data": {
      "text/plain": [
       "torch.Size([64, 3])"
      ]
     },
     "execution_count": 90,
     "metadata": {},
     "output_type": "execute_result"
    }
   ],
   "source": [
    "batch = torch.randint(0,156,(64,3,300,300), dtype=torch.float32)\n",
    "batch.mean(dim=(2,3)).shape"
   ]
  },
  {
   "cell_type": "code",
   "execution_count": 94,
   "id": "4267aa9d",
   "metadata": {},
   "outputs": [
    {
     "data": {
      "text/plain": [
       "torch.Size([64, 3, 300, 300])"
      ]
     },
     "execution_count": 94,
     "metadata": {},
     "output_type": "execute_result"
    }
   ],
   "source": [
    "B = normalize_picture(batch)\n",
    "B.shape"
   ]
  },
  {
   "cell_type": "code",
   "execution_count": 97,
   "id": "dcd6cd46",
   "metadata": {},
   "outputs": [
    {
     "data": {
      "text/plain": [
       "(tensor([[-4.1729e-08, -8.2906e-08,  3.3908e-10],\n",
       "         [-7.8795e-08, -4.6539e-08, -6.2731e-08],\n",
       "         [ 0.0000e+00, -1.4411e-09,  6.3112e-08],\n",
       "         [ 3.9503e-08, -1.5683e-09, -7.4048e-08],\n",
       "         [ 2.5431e-09,  1.6361e-08, -5.2728e-08],\n",
       "         [-5.5737e-08, -2.0769e-08,  7.5637e-08],\n",
       "         [-5.2049e-08,  3.2637e-08, -4.4674e-08],\n",
       "         [ 5.5186e-08,  3.8624e-08,  3.8189e-08],\n",
       "         [-6.4723e-08,  1.3775e-09, -6.9650e-08],\n",
       "         [ 7.8498e-08, -7.2225e-08, -3.4693e-08],\n",
       "         [-4.7217e-08,  6.8898e-08,  6.5698e-08],\n",
       "         [ 1.5386e-08,  2.2888e-08,  6.4617e-08],\n",
       "         [ 4.4929e-09, -2.9076e-08, -3.1386e-08],\n",
       "         [-2.8653e-08, -6.4426e-09,  4.5819e-08],\n",
       "         [ 6.7986e-08, -4.9930e-08,  4.1623e-08],\n",
       "         [-4.2809e-08,  8.2737e-08, -5.6118e-08],\n",
       "         [ 3.2722e-08, -8.8162e-09,  2.6957e-08],\n",
       "         [ 6.8919e-08, -2.9585e-08, -2.7890e-08],\n",
       "         [ 4.5183e-08,  4.6455e-08, -5.5016e-08],\n",
       "         [-2.8080e-08, -5.1689e-08,  6.1501e-08],\n",
       "         [-2.3015e-08, -6.3917e-08,  6.9343e-08],\n",
       "         [-7.8159e-08,  6.6800e-08,  8.0024e-08],\n",
       "         [ 8.1401e-08, -3.7299e-09,  2.5092e-08],\n",
       "         [-1.0342e-08, -2.3736e-09, -1.1264e-08],\n",
       "         [ 8.6996e-09, -2.5770e-08,  3.9673e-08],\n",
       "         [-7.8498e-08,  2.9161e-08, -4.7811e-08],\n",
       "         [-7.0360e-08, -3.7384e-08,  1.0512e-08],\n",
       "         [ 4.0775e-08, -7.2055e-08,  5.2049e-08],\n",
       "         [ 3.0094e-09, -4.3233e-08,  7.2564e-08],\n",
       "         [-9.3248e-09,  2.1489e-08, -4.0478e-08],\n",
       "         [ 9.6639e-09, -3.7045e-08,  7.8668e-08],\n",
       "         [ 5.6118e-08,  5.8662e-08, -6.4511e-08],\n",
       "         [-5.1965e-08,  1.5259e-09,  2.2846e-08],\n",
       "         [-6.0018e-08,  7.0657e-08,  2.0557e-08],\n",
       "         [ 4.0521e-08,  3.2891e-08,  1.3309e-08],\n",
       "         [ 6.4935e-08,  5.2558e-08,  7.1589e-08],\n",
       "         [ 3.5773e-08, -6.9470e-08, -6.6800e-08],\n",
       "         [ 2.8568e-08,  6.3578e-08, -8.3881e-08],\n",
       "         [ 2.5262e-08,  3.8910e-08,  6.8665e-08],\n",
       "         [-3.7299e-08,  2.0515e-08, -3.5519e-08],\n",
       "         [-6.9512e-08, -4.1029e-08,  4.2046e-08],\n",
       "         [-1.0342e-08,  3.3908e-08, -9.8334e-09],\n",
       "         [-2.2803e-08,  3.0814e-08,  3.5095e-08],\n",
       "         [-6.1162e-08,  4.8743e-10, -3.4417e-08],\n",
       "         [ 6.4511e-08, -2.0006e-08, -3.0814e-08],\n",
       "         [-7.4048e-08, -6.0187e-08,  1.8904e-08],\n",
       "         [ 3.5519e-08, -3.8486e-08,  7.8328e-08],\n",
       "         [-1.6191e-08, -2.8483e-08,  8.3245e-08],\n",
       "         [ 5.4211e-08,  4.7175e-08,  5.8132e-08],\n",
       "         [ 2.6915e-08,  1.1868e-08,  2.9161e-08],\n",
       "         [-3.9249e-08, -4.5946e-08, -4.0478e-08],\n",
       "         [ 5.4593e-08, -1.1529e-08, -7.1208e-08],\n",
       "         [-3.0178e-08, -3.3061e-08,  8.4771e-10],\n",
       "         [-7.8498e-08,  4.9506e-08,  1.9964e-08],\n",
       "         [-4.7260e-08,  6.9767e-08, -2.2634e-08],\n",
       "         [ 6.7817e-10, -6.0187e-08, -7.7057e-08],\n",
       "         [ 5.5101e-08, -3.7469e-08,  2.2210e-08],\n",
       "         [ 4.4420e-08,  6.5613e-08, -3.3696e-09],\n",
       "         [-7.0614e-08,  4.0351e-08,  6.3494e-08],\n",
       "         [-6.5274e-08,  2.0091e-08, -5.6881e-08],\n",
       "         [-1.7548e-08, -7.7311e-08,  2.1278e-08],\n",
       "         [-5.1456e-08, -7.4429e-08, -3.7469e-08],\n",
       "         [-5.7475e-08, -2.3736e-09,  2.6788e-08],\n",
       "         [-3.1175e-08, -2.0684e-08,  1.9116e-08]]),\n",
       " tensor([[1.0000, 1.0000, 1.0000],\n",
       "         [1.0000, 1.0000, 1.0000],\n",
       "         [1.0000, 1.0000, 1.0000],\n",
       "         [1.0000, 1.0000, 1.0000],\n",
       "         [1.0000, 1.0000, 1.0000],\n",
       "         [1.0000, 1.0000, 1.0000],\n",
       "         [1.0000, 1.0000, 1.0000],\n",
       "         [1.0000, 1.0000, 1.0000],\n",
       "         [1.0000, 1.0000, 1.0000],\n",
       "         [1.0000, 1.0000, 1.0000],\n",
       "         [1.0000, 1.0000, 1.0000],\n",
       "         [1.0000, 1.0000, 1.0000],\n",
       "         [1.0000, 1.0000, 1.0000],\n",
       "         [1.0000, 1.0000, 1.0000],\n",
       "         [1.0000, 1.0000, 1.0000],\n",
       "         [1.0000, 1.0000, 1.0000],\n",
       "         [1.0000, 1.0000, 1.0000],\n",
       "         [1.0000, 1.0000, 1.0000],\n",
       "         [1.0000, 1.0000, 1.0000],\n",
       "         [1.0000, 1.0000, 1.0000],\n",
       "         [1.0000, 1.0000, 1.0000],\n",
       "         [1.0000, 1.0000, 1.0000],\n",
       "         [1.0000, 1.0000, 1.0000],\n",
       "         [1.0000, 1.0000, 1.0000],\n",
       "         [1.0000, 1.0000, 1.0000],\n",
       "         [1.0000, 1.0000, 1.0000],\n",
       "         [1.0000, 1.0000, 1.0000],\n",
       "         [1.0000, 1.0000, 1.0000],\n",
       "         [1.0000, 1.0000, 1.0000],\n",
       "         [1.0000, 1.0000, 1.0000],\n",
       "         [1.0000, 1.0000, 1.0000],\n",
       "         [1.0000, 1.0000, 1.0000],\n",
       "         [1.0000, 1.0000, 1.0000],\n",
       "         [1.0000, 1.0000, 1.0000],\n",
       "         [1.0000, 1.0000, 1.0000],\n",
       "         [1.0000, 1.0000, 1.0000],\n",
       "         [1.0000, 1.0000, 1.0000],\n",
       "         [1.0000, 1.0000, 1.0000],\n",
       "         [1.0000, 1.0000, 1.0000],\n",
       "         [1.0000, 1.0000, 1.0000],\n",
       "         [1.0000, 1.0000, 1.0000],\n",
       "         [1.0000, 1.0000, 1.0000],\n",
       "         [1.0000, 1.0000, 1.0000],\n",
       "         [1.0000, 1.0000, 1.0000],\n",
       "         [1.0000, 1.0000, 1.0000],\n",
       "         [1.0000, 1.0000, 1.0000],\n",
       "         [1.0000, 1.0000, 1.0000],\n",
       "         [1.0000, 1.0000, 1.0000],\n",
       "         [1.0000, 1.0000, 1.0000],\n",
       "         [1.0000, 1.0000, 1.0000],\n",
       "         [1.0000, 1.0000, 1.0000],\n",
       "         [1.0000, 1.0000, 1.0000],\n",
       "         [1.0000, 1.0000, 1.0000],\n",
       "         [1.0000, 1.0000, 1.0000],\n",
       "         [1.0000, 1.0000, 1.0000],\n",
       "         [1.0000, 1.0000, 1.0000],\n",
       "         [1.0000, 1.0000, 1.0000],\n",
       "         [1.0000, 1.0000, 1.0000],\n",
       "         [1.0000, 1.0000, 1.0000],\n",
       "         [1.0000, 1.0000, 1.0000],\n",
       "         [1.0000, 1.0000, 1.0000],\n",
       "         [1.0000, 1.0000, 1.0000],\n",
       "         [1.0000, 1.0000, 1.0000],\n",
       "         [1.0000, 1.0000, 1.0000]]))"
      ]
     },
     "execution_count": 97,
     "metadata": {},
     "output_type": "execute_result"
    }
   ],
   "source": [
    "B.mean(dim=(2,3)), B.std(dim=(2,3))"
   ]
  },
  {
   "cell_type": "code",
   "execution_count": 99,
   "id": "3e2fd4b3",
   "metadata": {},
   "outputs": [
    {
     "data": {
      "text/plain": [
       "array([[0.41604462, 0.49288141, 0.61154983],\n",
       "       [0.88254043, 0.04298312, 0.97545273],\n",
       "       [0.91229918, 0.68778296, 0.06539496]])"
      ]
     },
     "execution_count": 99,
     "metadata": {},
     "output_type": "execute_result"
    }
   ],
   "source": [
    "# conversions\n",
    "\n",
    "import numpy as np\n",
    "a = np.random.rand(3,3)\n",
    "\n",
    "a"
   ]
  },
  {
   "cell_type": "code",
   "execution_count": 100,
   "id": "6248b078",
   "metadata": {},
   "outputs": [
    {
     "data": {
      "text/plain": [
       "tensor([[0.4160, 0.4929, 0.6115],\n",
       "        [0.8825, 0.0430, 0.9755],\n",
       "        [0.9123, 0.6878, 0.0654]], dtype=torch.float64)"
      ]
     },
     "execution_count": 100,
     "metadata": {},
     "output_type": "execute_result"
    }
   ],
   "source": [
    "b = torch.from_numpy(a)\n",
    "b"
   ]
  },
  {
   "cell_type": "code",
   "execution_count": 101,
   "id": "afb8f774",
   "metadata": {},
   "outputs": [
    {
     "data": {
      "text/plain": [
       "tensor([[0., 0., 0.],\n",
       "        [0., 0., 0.],\n",
       "        [0., 0., 0.]], dtype=torch.float64)"
      ]
     },
     "execution_count": 101,
     "metadata": {},
     "output_type": "execute_result"
    }
   ],
   "source": [
    "b -=b \n",
    "b"
   ]
  },
  {
   "cell_type": "code",
   "execution_count": 102,
   "id": "0e45ccbc",
   "metadata": {},
   "outputs": [
    {
     "data": {
      "text/plain": [
       "array([[0., 0., 0.],\n",
       "       [0., 0., 0.],\n",
       "       [0., 0., 0.]])"
      ]
     },
     "execution_count": 102,
     "metadata": {},
     "output_type": "execute_result"
    }
   ],
   "source": [
    "a"
   ]
  },
  {
   "cell_type": "code",
   "execution_count": 103,
   "id": "61c81720",
   "metadata": {},
   "outputs": [
    {
     "data": {
      "text/plain": [
       "tensor([[[2.2421e-44, 0.0000e+00, 0.0000e+00, 0.0000e+00],\n",
       "         [0.0000e+00, 0.0000e+00, 0.0000e+00, 0.0000e+00],\n",
       "         [0.0000e+00, 0.0000e+00, 0.0000e+00, 0.0000e+00]],\n",
       "\n",
       "        [[0.0000e+00, 0.0000e+00, 0.0000e+00, 0.0000e+00],\n",
       "         [0.0000e+00, 0.0000e+00, 0.0000e+00, 0.0000e+00],\n",
       "         [0.0000e+00, 0.0000e+00, 0.0000e+00, 0.0000e+00]]])"
      ]
     },
     "execution_count": 103,
     "metadata": {},
     "output_type": "execute_result"
    }
   ],
   "source": [
    "c = torch.FloatTensor(2,3,4)\n",
    "c"
   ]
  },
  {
   "cell_type": "code",
   "execution_count": 105,
   "id": "831597e8",
   "metadata": {},
   "outputs": [
    {
     "data": {
      "text/plain": [
       "array([[[2.2e-44, 0.0e+00, 0.0e+00, 0.0e+00],\n",
       "        [0.0e+00, 0.0e+00, 0.0e+00, 0.0e+00],\n",
       "        [0.0e+00, 0.0e+00, 0.0e+00, 0.0e+00]],\n",
       "\n",
       "       [[0.0e+00, 0.0e+00, 0.0e+00, 0.0e+00],\n",
       "        [0.0e+00, 0.0e+00, 0.0e+00, 0.0e+00],\n",
       "        [0.0e+00, 0.0e+00, 0.0e+00, 0.0e+00]]], dtype=float32)"
      ]
     },
     "execution_count": 105,
     "metadata": {},
     "output_type": "execute_result"
    }
   ],
   "source": [
    "x = c.numpy()\n",
    "x"
   ]
  },
  {
   "cell_type": "code",
   "execution_count": 111,
   "id": "3f961866",
   "metadata": {},
   "outputs": [],
   "source": [
    "# NN example\n",
    "\n",
    "def forward_pass(X,w):\n",
    "    logits = X @ w\n",
    "    result = torch.sigmoid(logits)\n",
    "    \n",
    "    return result"
   ]
  },
  {
   "cell_type": "code",
   "execution_count": 112,
   "id": "e64be10c",
   "metadata": {},
   "outputs": [
    {
     "name": "stdout",
     "output_type": "stream",
     "text": [
      "torch.Size([3, 2])\n",
      "torch.Size([2, 1])\n"
     ]
    },
    {
     "data": {
      "text/plain": [
       "tensor([[1.0000],\n",
       "        [0.9985],\n",
       "        [0.0474]])"
      ]
     },
     "execution_count": 112,
     "metadata": {},
     "output_type": "execute_result"
    }
   ],
   "source": [
    "X = torch.FloatTensor([[-5,5],[2,3],[1,-1]])\n",
    "print(X.shape)\n",
    "w = torch.FloatTensor([[-0.5],[2.5]])\n",
    "print(w.shape)\n",
    "result = forward_pass(X,w)\n",
    "result"
   ]
  },
  {
   "cell_type": "code",
   "execution_count": 115,
   "id": "a94f8271",
   "metadata": {},
   "outputs": [
    {
     "data": {
      "text/plain": [
       "tensor([[0.9553, 0.7675, 0.7037,  ..., 0.5526, 0.7239, 0.7189],\n",
       "        [0.9570, 0.1025, 0.7250,  ..., 0.6028, 0.0574, 0.6489],\n",
       "        [0.5467, 0.7437, 0.5784,  ..., 0.7419, 0.1806, 0.7443],\n",
       "        ...,\n",
       "        [0.1691, 0.6248, 0.2103,  ..., 0.3415, 0.9384, 0.8752],\n",
       "        [0.1389, 0.9619, 0.6187,  ..., 0.8829, 0.8926, 0.5819],\n",
       "        [0.4216, 0.0889, 0.5461,  ..., 0.1181, 0.7095, 0.1233]])"
      ]
     },
     "execution_count": 115,
     "metadata": {},
     "output_type": "execute_result"
    }
   ],
   "source": [
    "# CUDA\n",
    "x = torch.FloatTensor(1024,10024).uniform_()\n",
    "x"
   ]
  },
  {
   "cell_type": "code",
   "execution_count": 116,
   "id": "7440e25d",
   "metadata": {},
   "outputs": [
    {
     "data": {
      "text/plain": [
       "False"
      ]
     },
     "execution_count": 116,
     "metadata": {},
     "output_type": "execute_result"
    }
   ],
   "source": [
    "x.is_cuda"
   ]
  },
  {
   "cell_type": "code",
   "execution_count": 119,
   "id": "a908f35e",
   "metadata": {},
   "outputs": [
    {
     "name": "stdout",
     "output_type": "stream",
     "text": [
      "zsh:1: command not found: nvidia-smi\r\n"
     ]
    }
   ],
   "source": [
    "!nvidia-smi\n",
    "# mcbook & nvidia does not support cuda from 2019\n",
    "# my mac has amd graphic\n"
   ]
  },
  {
   "cell_type": "code",
   "execution_count": null,
   "id": "9ec6f8c8",
   "metadata": {},
   "outputs": [],
   "source": []
  }
 ],
 "metadata": {
  "kernelspec": {
   "display_name": "Python 3",
   "language": "python",
   "name": "python3"
  },
  "language_info": {
   "codemirror_mode": {
    "name": "ipython",
    "version": 3
   },
   "file_extension": ".py",
   "mimetype": "text/x-python",
   "name": "python",
   "nbconvert_exporter": "python",
   "pygments_lexer": "ipython3",
   "version": "3.8.8"
  }
 },
 "nbformat": 4,
 "nbformat_minor": 5
}
